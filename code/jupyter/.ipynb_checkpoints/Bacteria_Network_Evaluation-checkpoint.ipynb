{
 "cells": [
  {
   "cell_type": "code",
   "execution_count": null,
   "metadata": {},
   "outputs": [],
   "source": [
    "import pandas as pd\n",
    "import numpy as np\n",
    "import os\n",
    "from os.path import join\n",
    "from skimage.io import imread\n",
    "from PIL import Image\n",
    "\n",
    "from keras.models import load_model\n",
    "\n",
    "import json\n",
    "\n",
    "import matplotlib.pyplot as plt"
   ]
  },
  {
   "cell_type": "code",
   "execution_count": null,
   "metadata": {},
   "outputs": [],
   "source": [
    "# Loads single image\n",
    "def load_image(img_path):\n",
    "    if not os.path.exists(img_path):\n",
    "        print(\"Image doesn't exist: {}\".format(img_path))\n",
    "        return\n",
    "    \n",
    "    img = Image.open(img_path)\n",
    "    img = img.resize((28,28), Image.ANTIALIAS)\n",
    "    img = img.convert('L')\n",
    "    img = np.expand_dims(img, axis=3)\n",
    "    img = np.expand_dims(img, axis=0)\n",
    "    return img"
   ]
  },
  {
   "cell_type": "code",
   "execution_count": null,
   "metadata": {},
   "outputs": [],
   "source": [
    "# Saves the model and the weights\n",
    "def get_model(data_column, models_dir, history_dir):\n",
    "    model_name = data_column + \"_model\" + \".h5\"\n",
    "    model_file = join(models_dir, model_name)\n",
    "    \n",
    "    model = load_model(model_file)\n",
    "    \n",
    "    history_file = join(history_dir, \"{}_history.json\".format(data_column))\n",
    "    history_json = open(history_file,'r')\n",
    "    history = json.loads(history_json.read())\n",
    "\n",
    "    return model, history"
   ]
  },
  {
   "cell_type": "code",
   "execution_count": null,
   "metadata": {},
   "outputs": [],
   "source": [
    "def plot_history(history, data_column):\n",
    "    # summarize history for loss\n",
    "    plt.plot(history['loss'])\n",
    "    plt.plot(history['val_loss'])\n",
    "    plt.title('Model Loss')\n",
    "    plt.ylabel('Loss')\n",
    "    plt.xlabel('Epoch')\n",
    "    plt.legend(['Train', 'Test'], loc='upper left')\n",
    "    savefig('{}.png'.format(data_column))"
   ]
  },
  {
   "cell_type": "code",
   "execution_count": null,
   "metadata": {},
   "outputs": [],
   "source": [
    "# Get a dataset from the Excel sheet\n",
    "def get_dataset(base_dataset, column_name):\n",
    "    return base_dataset[[\"strain_id\",\"strain_image\", column_name]]"
   ]
  },
  {
   "cell_type": "code",
   "execution_count": null,
   "metadata": {},
   "outputs": [],
   "source": [
    "save_dir = \"Enter a directory to retrieve you models and history\" # Directory for saving things\n",
    "models_dir = join(save_dir, \"models\") # models directory\n",
    "history_dir = join(save_dir, \"history\") # history directory"
   ]
  },
  {
   "cell_type": "code",
   "execution_count": null,
   "metadata": {},
   "outputs": [],
   "source": [
    "data_column = \"Choose a column to analyze\" # e.g. \"toby.max.od\" or \"carb.lag\" or \"env\""
   ]
  },
  {
   "cell_type": "code",
   "execution_count": null,
   "metadata": {
    "scrolled": false
   },
   "outputs": [],
   "source": [
    "model, history = get_model(data_column, models_dir, history_dir)"
   ]
  },
  {
   "cell_type": "code",
   "execution_count": null,
   "metadata": {},
   "outputs": [],
   "source": [
    "plot_history(history)"
   ]
  },
  {
   "cell_type": "code",
   "execution_count": null,
   "metadata": {
    "scrolled": true
   },
   "outputs": [],
   "source": [
    "img_path = \"Enter an image you want to analyze\"\n",
    "img = load_image(img_path)"
   ]
  },
  {
   "cell_type": "code",
   "execution_count": null,
   "metadata": {},
   "outputs": [],
   "source": [
    "ynew = model.predict(img)"
   ]
  },
  {
   "cell_type": "code",
   "execution_count": null,
   "metadata": {},
   "outputs": [],
   "source": [
    "print(ynew)"
   ]
  }
 ],
 "metadata": {
  "kernelspec": {
   "display_name": "Python 3",
   "language": "python",
   "name": "python3"
  },
  "language_info": {
   "codemirror_mode": {
    "name": "ipython",
    "version": 3
   },
   "file_extension": ".py",
   "mimetype": "text/x-python",
   "name": "python",
   "nbconvert_exporter": "python",
   "pygments_lexer": "ipython3",
   "version": "3.7.0"
  }
 },
 "nbformat": 4,
 "nbformat_minor": 2
}
