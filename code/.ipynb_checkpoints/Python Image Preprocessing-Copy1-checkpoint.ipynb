{
 "cells": [
  {
   "cell_type": "code",
   "execution_count": 1,
   "metadata": {},
   "outputs": [],
   "source": [
    "import os\n",
    "from os.path import join\n",
    "from os import path\n",
    "\n",
    "import sys\n",
    "import fnmatch\n",
    "\n",
    "import Augmentor\n",
    "from PIL import Image\n",
    "from tqdm import tqdm\n",
    "import pandas as pd\n",
    "from openpyxl import load_workbook\n",
    "\n",
    "Image.MAX_IMAGE_PIXELS = 1000000000     "
   ]
  },
  {
   "cell_type": "markdown",
   "metadata": {},
   "source": [
    "# Image Preprocessing - Organization and Augmenting\n",
    "---"
   ]
  },
  {
   "cell_type": "code",
   "execution_count": 2,
   "metadata": {},
   "outputs": [],
   "source": [
    "def create_strain_directories(base_directory, strain_ids):\n",
    "    for strain in strain_ids:\n",
    "        try:\n",
    "            strain_path = os.path.join(base_directory, str(strain))\n",
    "            os.mkdir(strain_path)\n",
    "            print(\"Directory Created:\", strain_path)\n",
    "        except FileExistsError as e:\n",
    "            pass"
   ]
  },
  {
   "cell_type": "code",
   "execution_count": 3,
   "metadata": {},
   "outputs": [],
   "source": [
    "def move_images(base_directory, strain_ids):\n",
    "    for strain in strain_ids:\n",
    "        for file in os.listdir(base_directory):\n",
    "            strain_img = \"PIL-{}_*.jpg\".format(int(strain))\n",
    "            if fnmatch.fnmatch(file, strain_img):\n",
    "                image_path = os.path.join(base_directory,file)\n",
    "                mv_dir = os.path.join(base_directory,str(strain))\n",
    "                mv_path = os.path.join(mv_dir, file)\n",
    "                if os.path.exists(image_path):\n",
    "                    os.rename(image_path,mv_path)"
   ]
  },
  {
   "cell_type": "code",
   "execution_count": 4,
   "metadata": {},
   "outputs": [],
   "source": [
    "# Clean Up: Deletes Empty Directories\n",
    "def delete_empty_directories(base_directory):\n",
    "    directories = [x[0] for x in os.walk(base_directory)]\n",
    "    for directory in directories:\n",
    "        try:\n",
    "            os.rmdir(directory)\n",
    "        except OSError as e:\n",
    "            pass"
   ]
  },
  {
   "cell_type": "code",
   "execution_count": 5,
   "metadata": {},
   "outputs": [],
   "source": [
    "# Organizes the Images into their respective directories\n",
    "def organize_images(base_directory, dataset):\n",
    "    strain_ids = dataset[\"strain\"]\n",
    "    create_strain_directories(base_directory, strain_ids)\n",
    "    move_images(base_directory, strain_ids)\n",
    "    delete_empty_directories(base_directory)"
   ]
  },
  {
   "cell_type": "code",
   "execution_count": 6,
   "metadata": {},
   "outputs": [],
   "source": [
    "# Gets all the strain directories\n",
    "def get_strain_directories(base_directory):\n",
    "    strain_dirs = []\n",
    "    for root, dirs, files in os.walk(base_directory, topdown=False):\n",
    "        for name in dirs:\n",
    "            dir_path = os.path.join(base_directory, name)\n",
    "            if os.path.isdir(dir_path):\n",
    "                strain_dirs.append(dir_path)\n",
    "    return strain_dirs"
   ]
  },
  {
   "cell_type": "code",
   "execution_count": 7,
   "metadata": {},
   "outputs": [],
   "source": [
    "# Checks if the path is a parent to ensure we're saving the augmented images in their correct directory\n",
    "def path_is_parent(parent_path, child_path):\n",
    "    parent_path = os.path.abspath(parent_path)\n",
    "    child_path = os.path.abspath(child_path)\n",
    "\n",
    "    return os.path.commonpath([parent_path]) == os.path.commonpath([parent_path, child_path])\n",
    "\n",
    "# Converts to grayscale\n",
    "def to_grayscale(strain_directory, output_dir):\n",
    "    try:\n",
    "        if not path_is_parent(strain_directory, output_dir):\n",
    "            print(\"Not the correct subdirectory\")\n",
    "            return\n",
    "\n",
    "        dirs = os.listdir( strain_directory )\n",
    "\n",
    "        if not os.path.exists(output_dir):\n",
    "            os.makedirs(output_dir)\n",
    "\n",
    "        for item in dirs:\n",
    "            if \".jpg\" in item:\n",
    "                img_file = os.path.join(strain_directory,item)\n",
    "                if os.path.isfile(img_file):\n",
    "                    file_name, extension = os.path.splitext(img_file)\n",
    "                    file_name = file_name + \"_gray.jpg\"\n",
    "                    new_file_location = join(output_dir,item)\n",
    "\n",
    "                    img = Image.open(img_file)        \n",
    "                    img_gray = img.convert('L')\n",
    "                    img_gray.save(file_name)\n",
    "\n",
    "                    os.rename(file_name, new_file_location) # moves file to new location\n",
    "    except Exception as e:\n",
    "        print(\"Issue with directory in to_grayscale() method:\", strain_directory)\n",
    "        print(e)\n",
    "        \n",
    "# Resizes Images\n",
    "def resize(strain_directory, output_dir):\n",
    "    try:\n",
    "        if not path_is_parent(strain_directory, output_dir):\n",
    "            print(\"Not the correct subdirectory\")\n",
    "            return\n",
    "\n",
    "        dirs = os.listdir( strain_directory )\n",
    "\n",
    "        if not os.path.exists(output_dir):\n",
    "            os.makedirs(output_dir)\n",
    "\n",
    "        for item in dirs:\n",
    "            if \".jpg\" in item:\n",
    "                img_file = os.path.join(strain_directory,item)\n",
    "                if os.path.isfile(img_file):\n",
    "                    file_name, extension = os.path.splitext(img_file)\n",
    "                    file_name = file_name + \"_resized.jpg\"\n",
    "                    new_file_location = join(output_dir,item)\n",
    "\n",
    "                    img = Image.open(img_file)\n",
    "                    file_name, extension = os.path.splitext(img_file)\n",
    "                    imResize = img.resize((28,28), Image.ANTIALIAS)\n",
    "                    imResize.save(file_name, 'JPEG', quality=90)\n",
    "\n",
    "                    os.rename(file_name, new_file_location) # moves file to new location\n",
    "    except Exception as e:\n",
    "        print(\"Issue with directory in resize() method:\", strain_directory)\n",
    "        print(e)"
   ]
  },
  {
   "cell_type": "code",
   "execution_count": 8,
   "metadata": {},
   "outputs": [],
   "source": [
    "# Augments the images\n",
    "def augment_strain_images(strain_dir, sample_size=20):\n",
    "    try:\n",
    "        p = Augmentor.Pipeline(strain_dir)\n",
    "        p.rotate(probability=0.7, max_left_rotation=10, max_right_rotation=10)\n",
    "        p.zoom(probability=0.5, min_factor=1.1, max_factor=1.5)\n",
    "        p.flip_left_right(probability=0.5)\n",
    "        p.flip_top_bottom(probability=0.5)\n",
    "        p.resize(probability=1.0, width=28, height=28)\n",
    "        p.sample(sample_size)\n",
    "    except Exception as e:\n",
    "        print(\"Issue with directory in augment_strain_images() method:\", strain_dir)\n",
    "        print(e)"
   ]
  },
  {
   "cell_type": "code",
   "execution_count": 9,
   "metadata": {},
   "outputs": [],
   "source": [
    "# Processes the entire images dataset\n",
    "def process_images(strain_directories, gray_strain_directories, output_strain_directories):\n",
    "    \n",
    "    # Converts original images to grayscale\n",
    "    for i in tqdm(range(len(strain_directories))):\n",
    "        to_grayscale(strain_directories[i], gray_strain_directories[i])\n",
    "    \n",
    "    # Augments the gray images\n",
    "    for image_dir in (gray_strain_directories):\n",
    "        augment_strain_images(image_dir)\n",
    "    \n",
    "    # (Just for completeness) Resizes the original grayscale images without augmentations\n",
    "    for i in tqdm(range(len(output_strain_directories))):\n",
    "        resize(gray_strain_directories[i], output_strain_directories[i])"
   ]
  },
  {
   "cell_type": "code",
   "execution_count": 10,
   "metadata": {},
   "outputs": [],
   "source": [
    "def split_path(path):\n",
    "    allparts = []\n",
    "    while True:\n",
    "        parts = os.path.split(path)\n",
    "        if parts[0] == path:  # sentinel for absolute paths\n",
    "            allparts.insert(0, parts[0])\n",
    "            break\n",
    "        elif parts[1] == path: # sentinel for relative paths\n",
    "            allparts.insert(0, parts[1])\n",
    "            break\n",
    "        else:\n",
    "            path = parts[0]\n",
    "            allparts.insert(0, parts[1])\n",
    "    return allparts"
   ]
  },
  {
   "cell_type": "code",
   "execution_count": 11,
   "metadata": {},
   "outputs": [],
   "source": [
    "# Create excel sheet with strain id , image location pairs\n",
    "def get_strain_images_as_df(strain_directories):\n",
    "    strains = []\n",
    "    try: \n",
    "        for directory in strain_directories:        \n",
    "            strain_id = split_path(directory)[-3]\n",
    "\n",
    "            for item in os.listdir( directory ):\n",
    "                if \".jpg\" in item:\n",
    "                    image_path = os.path.join(directory,item)\n",
    "                    if os.path.exists(image_path):\n",
    "                        strain_dict = {\"strain\": strain_id, \"strain_image\":image_path}\n",
    "                        strains.append(strain_dict)\n",
    "                    else:\n",
    "                        print(\"Doesn't exist:\", image_path)\n",
    "    except FileNotFoundError:\n",
    "        pass\n",
    "    return pd.DataFrame(strains)\n",
    "\n",
    "def save_to_excel(excel_file, sheet_name, df):\n",
    "    book = load_workbook(excel_file)\n",
    "    writer = pd.ExcelWriter(excel_file)\n",
    "    writer.book  = book\n",
    "    writer.sheets = dict((ws.title, ws) for ws in book.worksheets)\n",
    "\n",
    "    df.to_excel(writer, sheet_name, index=False)\n",
    "    writer.save()"
   ]
  },
  {
   "cell_type": "code",
   "execution_count": 12,
   "metadata": {},
   "outputs": [],
   "source": [
    "# Joins datasets\n",
    "def merge_datasets(df_1, df_2):\n",
    "    info = []\n",
    "    for strain, row in df_1.iterrows():\n",
    "        try:\n",
    "            if '0' in strain[0]:\n",
    "                strain_id = pd.Series(strain, index=[\"strain_id\"])\n",
    "                info.append(df_2.loc[strain].append(row).append(strain_id))\n",
    "            else:\n",
    "                strain_id = pd.Series(strain, index=[\"strain_id\"])\n",
    "                info.append(df_2.loc[int(strain)].append(row).append(strain_id))\n",
    "        except Exception as e:\n",
    "            print(\"error with strain\", strain, \":\", e)\n",
    "\n",
    "    return pd.DataFrame(info)"
   ]
  },
  {
   "cell_type": "code",
   "execution_count": 13,
   "metadata": {},
   "outputs": [],
   "source": [
    "base_directory = \"/Users/deontaepharr/Desktop/Projects/PIL_3dayLBCR-training\"\n",
    "bacteria_workbook = \"/Users/deontaepharr/Desktop/Projects/PIL_3dayLBCR-training/Perron_phenotype-GSU-training.xlsx\""
   ]
  },
  {
   "cell_type": "code",
   "execution_count": 14,
   "metadata": {},
   "outputs": [],
   "source": [
    "total_data = pd.read_excel(bacteria_workbook, dtype=object, sheet_name=\"Total Database\")"
   ]
  },
  {
   "cell_type": "code",
   "execution_count": 15,
   "metadata": {
    "scrolled": false
   },
   "outputs": [
    {
     "name": "stdout",
     "output_type": "stream",
     "text": [
      "Directory Created: /Users/deontaepharr/Desktop/Projects/PIL_3dayLBCR-training/001\n",
      "Directory Created: /Users/deontaepharr/Desktop/Projects/PIL_3dayLBCR-training/002\n",
      "Directory Created: /Users/deontaepharr/Desktop/Projects/PIL_3dayLBCR-training/003\n",
      "Directory Created: /Users/deontaepharr/Desktop/Projects/PIL_3dayLBCR-training/005\n",
      "Directory Created: /Users/deontaepharr/Desktop/Projects/PIL_3dayLBCR-training/007\n",
      "Directory Created: /Users/deontaepharr/Desktop/Projects/PIL_3dayLBCR-training/009\n",
      "Directory Created: /Users/deontaepharr/Desktop/Projects/PIL_3dayLBCR-training/011\n",
      "Directory Created: /Users/deontaepharr/Desktop/Projects/PIL_3dayLBCR-training/013\n",
      "Directory Created: /Users/deontaepharr/Desktop/Projects/PIL_3dayLBCR-training/014\n",
      "Directory Created: /Users/deontaepharr/Desktop/Projects/PIL_3dayLBCR-training/015\n",
      "Directory Created: /Users/deontaepharr/Desktop/Projects/PIL_3dayLBCR-training/023\n",
      "Directory Created: /Users/deontaepharr/Desktop/Projects/PIL_3dayLBCR-training/024\n",
      "Directory Created: /Users/deontaepharr/Desktop/Projects/PIL_3dayLBCR-training/026\n",
      "Directory Created: /Users/deontaepharr/Desktop/Projects/PIL_3dayLBCR-training/027\n",
      "Directory Created: /Users/deontaepharr/Desktop/Projects/PIL_3dayLBCR-training/028\n",
      "Directory Created: /Users/deontaepharr/Desktop/Projects/PIL_3dayLBCR-training/029\n",
      "Directory Created: /Users/deontaepharr/Desktop/Projects/PIL_3dayLBCR-training/030\n",
      "Directory Created: /Users/deontaepharr/Desktop/Projects/PIL_3dayLBCR-training/032\n",
      "Directory Created: /Users/deontaepharr/Desktop/Projects/PIL_3dayLBCR-training/033\n",
      "Directory Created: /Users/deontaepharr/Desktop/Projects/PIL_3dayLBCR-training/034\n",
      "Directory Created: /Users/deontaepharr/Desktop/Projects/PIL_3dayLBCR-training/035\n",
      "Directory Created: /Users/deontaepharr/Desktop/Projects/PIL_3dayLBCR-training/037\n",
      "Directory Created: /Users/deontaepharr/Desktop/Projects/PIL_3dayLBCR-training/038\n",
      "Directory Created: /Users/deontaepharr/Desktop/Projects/PIL_3dayLBCR-training/039\n",
      "Directory Created: /Users/deontaepharr/Desktop/Projects/PIL_3dayLBCR-training/040\n",
      "Directory Created: /Users/deontaepharr/Desktop/Projects/PIL_3dayLBCR-training/041\n",
      "Directory Created: /Users/deontaepharr/Desktop/Projects/PIL_3dayLBCR-training/042\n",
      "Directory Created: /Users/deontaepharr/Desktop/Projects/PIL_3dayLBCR-training/045\n",
      "Directory Created: /Users/deontaepharr/Desktop/Projects/PIL_3dayLBCR-training/047\n",
      "Directory Created: /Users/deontaepharr/Desktop/Projects/PIL_3dayLBCR-training/048\n",
      "Directory Created: /Users/deontaepharr/Desktop/Projects/PIL_3dayLBCR-training/049\n",
      "Directory Created: /Users/deontaepharr/Desktop/Projects/PIL_3dayLBCR-training/050\n",
      "Directory Created: /Users/deontaepharr/Desktop/Projects/PIL_3dayLBCR-training/051\n",
      "Directory Created: /Users/deontaepharr/Desktop/Projects/PIL_3dayLBCR-training/052\n",
      "Directory Created: /Users/deontaepharr/Desktop/Projects/PIL_3dayLBCR-training/055\n",
      "Directory Created: /Users/deontaepharr/Desktop/Projects/PIL_3dayLBCR-training/066\n",
      "Directory Created: /Users/deontaepharr/Desktop/Projects/PIL_3dayLBCR-training/069\n",
      "Directory Created: /Users/deontaepharr/Desktop/Projects/PIL_3dayLBCR-training/071\n",
      "Directory Created: /Users/deontaepharr/Desktop/Projects/PIL_3dayLBCR-training/073\n",
      "Directory Created: /Users/deontaepharr/Desktop/Projects/PIL_3dayLBCR-training/075\n",
      "Directory Created: /Users/deontaepharr/Desktop/Projects/PIL_3dayLBCR-training/076\n",
      "Directory Created: /Users/deontaepharr/Desktop/Projects/PIL_3dayLBCR-training/078\n",
      "Directory Created: /Users/deontaepharr/Desktop/Projects/PIL_3dayLBCR-training/079\n",
      "Directory Created: /Users/deontaepharr/Desktop/Projects/PIL_3dayLBCR-training/080\n",
      "Directory Created: /Users/deontaepharr/Desktop/Projects/PIL_3dayLBCR-training/081\n",
      "Directory Created: /Users/deontaepharr/Desktop/Projects/PIL_3dayLBCR-training/082\n",
      "Directory Created: /Users/deontaepharr/Desktop/Projects/PIL_3dayLBCR-training/084\n",
      "Directory Created: /Users/deontaepharr/Desktop/Projects/PIL_3dayLBCR-training/086\n",
      "Directory Created: /Users/deontaepharr/Desktop/Projects/PIL_3dayLBCR-training/089\n",
      "Directory Created: /Users/deontaepharr/Desktop/Projects/PIL_3dayLBCR-training/090\n",
      "Directory Created: /Users/deontaepharr/Desktop/Projects/PIL_3dayLBCR-training/092\n",
      "Directory Created: /Users/deontaepharr/Desktop/Projects/PIL_3dayLBCR-training/093\n",
      "Directory Created: /Users/deontaepharr/Desktop/Projects/PIL_3dayLBCR-training/094\n",
      "Directory Created: /Users/deontaepharr/Desktop/Projects/PIL_3dayLBCR-training/100\n",
      "Directory Created: /Users/deontaepharr/Desktop/Projects/PIL_3dayLBCR-training/101\n",
      "Directory Created: /Users/deontaepharr/Desktop/Projects/PIL_3dayLBCR-training/109\n",
      "Directory Created: /Users/deontaepharr/Desktop/Projects/PIL_3dayLBCR-training/111\n",
      "Directory Created: /Users/deontaepharr/Desktop/Projects/PIL_3dayLBCR-training/113\n",
      "Directory Created: /Users/deontaepharr/Desktop/Projects/PIL_3dayLBCR-training/115\n",
      "Directory Created: /Users/deontaepharr/Desktop/Projects/PIL_3dayLBCR-training/116\n",
      "Directory Created: /Users/deontaepharr/Desktop/Projects/PIL_3dayLBCR-training/119\n",
      "Directory Created: /Users/deontaepharr/Desktop/Projects/PIL_3dayLBCR-training/120\n",
      "Directory Created: /Users/deontaepharr/Desktop/Projects/PIL_3dayLBCR-training/121\n",
      "Directory Created: /Users/deontaepharr/Desktop/Projects/PIL_3dayLBCR-training/122\n",
      "Directory Created: /Users/deontaepharr/Desktop/Projects/PIL_3dayLBCR-training/123\n",
      "Directory Created: /Users/deontaepharr/Desktop/Projects/PIL_3dayLBCR-training/124\n",
      "Directory Created: /Users/deontaepharr/Desktop/Projects/PIL_3dayLBCR-training/125\n",
      "Directory Created: /Users/deontaepharr/Desktop/Projects/PIL_3dayLBCR-training/126\n",
      "Directory Created: /Users/deontaepharr/Desktop/Projects/PIL_3dayLBCR-training/127\n",
      "Directory Created: /Users/deontaepharr/Desktop/Projects/PIL_3dayLBCR-training/128\n",
      "Directory Created: /Users/deontaepharr/Desktop/Projects/PIL_3dayLBCR-training/129\n",
      "Directory Created: /Users/deontaepharr/Desktop/Projects/PIL_3dayLBCR-training/130\n",
      "Directory Created: /Users/deontaepharr/Desktop/Projects/PIL_3dayLBCR-training/131\n",
      "Directory Created: /Users/deontaepharr/Desktop/Projects/PIL_3dayLBCR-training/132\n",
      "Directory Created: /Users/deontaepharr/Desktop/Projects/PIL_3dayLBCR-training/133\n",
      "Directory Created: /Users/deontaepharr/Desktop/Projects/PIL_3dayLBCR-training/134\n",
      "Directory Created: /Users/deontaepharr/Desktop/Projects/PIL_3dayLBCR-training/135\n",
      "Directory Created: /Users/deontaepharr/Desktop/Projects/PIL_3dayLBCR-training/136\n",
      "Directory Created: /Users/deontaepharr/Desktop/Projects/PIL_3dayLBCR-training/137\n",
      "Directory Created: /Users/deontaepharr/Desktop/Projects/PIL_3dayLBCR-training/138\n",
      "Directory Created: /Users/deontaepharr/Desktop/Projects/PIL_3dayLBCR-training/139\n",
      "Directory Created: /Users/deontaepharr/Desktop/Projects/PIL_3dayLBCR-training/140\n",
      "Directory Created: /Users/deontaepharr/Desktop/Projects/PIL_3dayLBCR-training/141\n",
      "Directory Created: /Users/deontaepharr/Desktop/Projects/PIL_3dayLBCR-training/142\n",
      "Directory Created: /Users/deontaepharr/Desktop/Projects/PIL_3dayLBCR-training/143\n",
      "Directory Created: /Users/deontaepharr/Desktop/Projects/PIL_3dayLBCR-training/144\n",
      "Directory Created: /Users/deontaepharr/Desktop/Projects/PIL_3dayLBCR-training/146\n",
      "Directory Created: /Users/deontaepharr/Desktop/Projects/PIL_3dayLBCR-training/147\n",
      "Directory Created: /Users/deontaepharr/Desktop/Projects/PIL_3dayLBCR-training/148\n",
      "Directory Created: /Users/deontaepharr/Desktop/Projects/PIL_3dayLBCR-training/149\n",
      "Directory Created: /Users/deontaepharr/Desktop/Projects/PIL_3dayLBCR-training/150\n",
      "Directory Created: /Users/deontaepharr/Desktop/Projects/PIL_3dayLBCR-training/151\n",
      "Directory Created: /Users/deontaepharr/Desktop/Projects/PIL_3dayLBCR-training/152\n",
      "Directory Created: /Users/deontaepharr/Desktop/Projects/PIL_3dayLBCR-training/153\n",
      "Directory Created: /Users/deontaepharr/Desktop/Projects/PIL_3dayLBCR-training/154\n",
      "Directory Created: /Users/deontaepharr/Desktop/Projects/PIL_3dayLBCR-training/155\n",
      "Directory Created: /Users/deontaepharr/Desktop/Projects/PIL_3dayLBCR-training/156\n",
      "Directory Created: /Users/deontaepharr/Desktop/Projects/PIL_3dayLBCR-training/157\n",
      "Directory Created: /Users/deontaepharr/Desktop/Projects/PIL_3dayLBCR-training/158\n",
      "Directory Created: /Users/deontaepharr/Desktop/Projects/PIL_3dayLBCR-training/159\n",
      "Directory Created: /Users/deontaepharr/Desktop/Projects/PIL_3dayLBCR-training/160\n",
      "Directory Created: /Users/deontaepharr/Desktop/Projects/PIL_3dayLBCR-training/162\n",
      "Directory Created: /Users/deontaepharr/Desktop/Projects/PIL_3dayLBCR-training/165\n",
      "Directory Created: /Users/deontaepharr/Desktop/Projects/PIL_3dayLBCR-training/167\n",
      "Directory Created: /Users/deontaepharr/Desktop/Projects/PIL_3dayLBCR-training/168\n",
      "Directory Created: /Users/deontaepharr/Desktop/Projects/PIL_3dayLBCR-training/169\n",
      "Directory Created: /Users/deontaepharr/Desktop/Projects/PIL_3dayLBCR-training/170\n",
      "Directory Created: /Users/deontaepharr/Desktop/Projects/PIL_3dayLBCR-training/171\n",
      "Directory Created: /Users/deontaepharr/Desktop/Projects/PIL_3dayLBCR-training/172\n",
      "Directory Created: /Users/deontaepharr/Desktop/Projects/PIL_3dayLBCR-training/174\n",
      "Directory Created: /Users/deontaepharr/Desktop/Projects/PIL_3dayLBCR-training/175\n",
      "Directory Created: /Users/deontaepharr/Desktop/Projects/PIL_3dayLBCR-training/176\n",
      "Directory Created: /Users/deontaepharr/Desktop/Projects/PIL_3dayLBCR-training/177\n",
      "Directory Created: /Users/deontaepharr/Desktop/Projects/PIL_3dayLBCR-training/178\n",
      "Directory Created: /Users/deontaepharr/Desktop/Projects/PIL_3dayLBCR-training/180\n",
      "Directory Created: /Users/deontaepharr/Desktop/Projects/PIL_3dayLBCR-training/183\n",
      "Directory Created: /Users/deontaepharr/Desktop/Projects/PIL_3dayLBCR-training/185\n",
      "Directory Created: /Users/deontaepharr/Desktop/Projects/PIL_3dayLBCR-training/186\n",
      "Directory Created: /Users/deontaepharr/Desktop/Projects/PIL_3dayLBCR-training/187\n",
      "Directory Created: /Users/deontaepharr/Desktop/Projects/PIL_3dayLBCR-training/189\n",
      "Directory Created: /Users/deontaepharr/Desktop/Projects/PIL_3dayLBCR-training/191\n",
      "Directory Created: /Users/deontaepharr/Desktop/Projects/PIL_3dayLBCR-training/192\n",
      "Directory Created: /Users/deontaepharr/Desktop/Projects/PIL_3dayLBCR-training/193\n",
      "Directory Created: /Users/deontaepharr/Desktop/Projects/PIL_3dayLBCR-training/195\n",
      "Directory Created: /Users/deontaepharr/Desktop/Projects/PIL_3dayLBCR-training/196\n",
      "Directory Created: /Users/deontaepharr/Desktop/Projects/PIL_3dayLBCR-training/197\n",
      "Directory Created: /Users/deontaepharr/Desktop/Projects/PIL_3dayLBCR-training/198\n",
      "Directory Created: /Users/deontaepharr/Desktop/Projects/PIL_3dayLBCR-training/200\n",
      "Directory Created: /Users/deontaepharr/Desktop/Projects/PIL_3dayLBCR-training/203\n",
      "Directory Created: /Users/deontaepharr/Desktop/Projects/PIL_3dayLBCR-training/209\n",
      "Directory Created: /Users/deontaepharr/Desktop/Projects/PIL_3dayLBCR-training/210\n",
      "Directory Created: /Users/deontaepharr/Desktop/Projects/PIL_3dayLBCR-training/211\n",
      "Directory Created: /Users/deontaepharr/Desktop/Projects/PIL_3dayLBCR-training/213\n",
      "Directory Created: /Users/deontaepharr/Desktop/Projects/PIL_3dayLBCR-training/217\n",
      "Directory Created: /Users/deontaepharr/Desktop/Projects/PIL_3dayLBCR-training/218\n",
      "Directory Created: /Users/deontaepharr/Desktop/Projects/PIL_3dayLBCR-training/226\n",
      "Directory Created: /Users/deontaepharr/Desktop/Projects/PIL_3dayLBCR-training/229\n",
      "Directory Created: /Users/deontaepharr/Desktop/Projects/PIL_3dayLBCR-training/230\n",
      "Directory Created: /Users/deontaepharr/Desktop/Projects/PIL_3dayLBCR-training/231\n",
      "Directory Created: /Users/deontaepharr/Desktop/Projects/PIL_3dayLBCR-training/232\n",
      "Directory Created: /Users/deontaepharr/Desktop/Projects/PIL_3dayLBCR-training/233\n",
      "Directory Created: /Users/deontaepharr/Desktop/Projects/PIL_3dayLBCR-training/234\n",
      "Directory Created: /Users/deontaepharr/Desktop/Projects/PIL_3dayLBCR-training/235\n",
      "Directory Created: /Users/deontaepharr/Desktop/Projects/PIL_3dayLBCR-training/236\n",
      "Directory Created: /Users/deontaepharr/Desktop/Projects/PIL_3dayLBCR-training/237\n",
      "Directory Created: /Users/deontaepharr/Desktop/Projects/PIL_3dayLBCR-training/248\n",
      "Directory Created: /Users/deontaepharr/Desktop/Projects/PIL_3dayLBCR-training/252\n",
      "Directory Created: /Users/deontaepharr/Desktop/Projects/PIL_3dayLBCR-training/253\n",
      "Directory Created: /Users/deontaepharr/Desktop/Projects/PIL_3dayLBCR-training/254\n",
      "Directory Created: /Users/deontaepharr/Desktop/Projects/PIL_3dayLBCR-training/255\n",
      "Directory Created: /Users/deontaepharr/Desktop/Projects/PIL_3dayLBCR-training/257\n",
      "Directory Created: /Users/deontaepharr/Desktop/Projects/PIL_3dayLBCR-training/259\n",
      "Directory Created: /Users/deontaepharr/Desktop/Projects/PIL_3dayLBCR-training/260\n",
      "Directory Created: /Users/deontaepharr/Desktop/Projects/PIL_3dayLBCR-training/261\n",
      "Directory Created: /Users/deontaepharr/Desktop/Projects/PIL_3dayLBCR-training/262\n",
      "Directory Created: /Users/deontaepharr/Desktop/Projects/PIL_3dayLBCR-training/263\n",
      "Directory Created: /Users/deontaepharr/Desktop/Projects/PIL_3dayLBCR-training/264\n",
      "Directory Created: /Users/deontaepharr/Desktop/Projects/PIL_3dayLBCR-training/266\n",
      "Directory Created: /Users/deontaepharr/Desktop/Projects/PIL_3dayLBCR-training/267\n",
      "Directory Created: /Users/deontaepharr/Desktop/Projects/PIL_3dayLBCR-training/268\n",
      "Directory Created: /Users/deontaepharr/Desktop/Projects/PIL_3dayLBCR-training/269\n",
      "Directory Created: /Users/deontaepharr/Desktop/Projects/PIL_3dayLBCR-training/270\n",
      "Directory Created: /Users/deontaepharr/Desktop/Projects/PIL_3dayLBCR-training/271\n",
      "Directory Created: /Users/deontaepharr/Desktop/Projects/PIL_3dayLBCR-training/272\n",
      "Directory Created: /Users/deontaepharr/Desktop/Projects/PIL_3dayLBCR-training/275\n",
      "Directory Created: /Users/deontaepharr/Desktop/Projects/PIL_3dayLBCR-training/276\n",
      "Directory Created: /Users/deontaepharr/Desktop/Projects/PIL_3dayLBCR-training/277\n",
      "Directory Created: /Users/deontaepharr/Desktop/Projects/PIL_3dayLBCR-training/280\n",
      "Directory Created: /Users/deontaepharr/Desktop/Projects/PIL_3dayLBCR-training/292\n",
      "Directory Created: /Users/deontaepharr/Desktop/Projects/PIL_3dayLBCR-training/293\n",
      "Directory Created: /Users/deontaepharr/Desktop/Projects/PIL_3dayLBCR-training/294\n",
      "Directory Created: /Users/deontaepharr/Desktop/Projects/PIL_3dayLBCR-training/298\n",
      "Directory Created: /Users/deontaepharr/Desktop/Projects/PIL_3dayLBCR-training/300\n",
      "Directory Created: /Users/deontaepharr/Desktop/Projects/PIL_3dayLBCR-training/304\n",
      "Directory Created: /Users/deontaepharr/Desktop/Projects/PIL_3dayLBCR-training/305\n",
      "Directory Created: /Users/deontaepharr/Desktop/Projects/PIL_3dayLBCR-training/307\n",
      "Directory Created: /Users/deontaepharr/Desktop/Projects/PIL_3dayLBCR-training/308\n",
      "Directory Created: /Users/deontaepharr/Desktop/Projects/PIL_3dayLBCR-training/310\n",
      "Directory Created: /Users/deontaepharr/Desktop/Projects/PIL_3dayLBCR-training/311\n",
      "Directory Created: /Users/deontaepharr/Desktop/Projects/PIL_3dayLBCR-training/312\n",
      "Directory Created: /Users/deontaepharr/Desktop/Projects/PIL_3dayLBCR-training/313\n",
      "Directory Created: /Users/deontaepharr/Desktop/Projects/PIL_3dayLBCR-training/314\n",
      "Directory Created: /Users/deontaepharr/Desktop/Projects/PIL_3dayLBCR-training/315\n",
      "Directory Created: /Users/deontaepharr/Desktop/Projects/PIL_3dayLBCR-training/316\n",
      "Directory Created: /Users/deontaepharr/Desktop/Projects/PIL_3dayLBCR-training/317\n",
      "Directory Created: /Users/deontaepharr/Desktop/Projects/PIL_3dayLBCR-training/320\n",
      "Directory Created: /Users/deontaepharr/Desktop/Projects/PIL_3dayLBCR-training/322\n",
      "Directory Created: /Users/deontaepharr/Desktop/Projects/PIL_3dayLBCR-training/324\n",
      "Directory Created: /Users/deontaepharr/Desktop/Projects/PIL_3dayLBCR-training/325\n",
      "Directory Created: /Users/deontaepharr/Desktop/Projects/PIL_3dayLBCR-training/327\n",
      "Directory Created: /Users/deontaepharr/Desktop/Projects/PIL_3dayLBCR-training/329\n",
      "Directory Created: /Users/deontaepharr/Desktop/Projects/PIL_3dayLBCR-training/330\n",
      "Directory Created: /Users/deontaepharr/Desktop/Projects/PIL_3dayLBCR-training/331\n",
      "Directory Created: /Users/deontaepharr/Desktop/Projects/PIL_3dayLBCR-training/333\n",
      "Directory Created: /Users/deontaepharr/Desktop/Projects/PIL_3dayLBCR-training/334\n",
      "Directory Created: /Users/deontaepharr/Desktop/Projects/PIL_3dayLBCR-training/335\n",
      "Directory Created: /Users/deontaepharr/Desktop/Projects/PIL_3dayLBCR-training/336\n",
      "Directory Created: /Users/deontaepharr/Desktop/Projects/PIL_3dayLBCR-training/337\n",
      "Directory Created: /Users/deontaepharr/Desktop/Projects/PIL_3dayLBCR-training/338\n",
      "Directory Created: /Users/deontaepharr/Desktop/Projects/PIL_3dayLBCR-training/340\n",
      "Directory Created: /Users/deontaepharr/Desktop/Projects/PIL_3dayLBCR-training/341\n",
      "Directory Created: /Users/deontaepharr/Desktop/Projects/PIL_3dayLBCR-training/342\n",
      "Directory Created: /Users/deontaepharr/Desktop/Projects/PIL_3dayLBCR-training/343\n",
      "Directory Created: /Users/deontaepharr/Desktop/Projects/PIL_3dayLBCR-training/344\n",
      "Directory Created: /Users/deontaepharr/Desktop/Projects/PIL_3dayLBCR-training/345\n",
      "Directory Created: /Users/deontaepharr/Desktop/Projects/PIL_3dayLBCR-training/346\n",
      "Directory Created: /Users/deontaepharr/Desktop/Projects/PIL_3dayLBCR-training/347\n",
      "Directory Created: /Users/deontaepharr/Desktop/Projects/PIL_3dayLBCR-training/348\n",
      "Directory Created: /Users/deontaepharr/Desktop/Projects/PIL_3dayLBCR-training/349\n",
      "Directory Created: /Users/deontaepharr/Desktop/Projects/PIL_3dayLBCR-training/350\n",
      "Directory Created: /Users/deontaepharr/Desktop/Projects/PIL_3dayLBCR-training/351\n",
      "Directory Created: /Users/deontaepharr/Desktop/Projects/PIL_3dayLBCR-training/352\n",
      "Directory Created: /Users/deontaepharr/Desktop/Projects/PIL_3dayLBCR-training/353\n",
      "Directory Created: /Users/deontaepharr/Desktop/Projects/PIL_3dayLBCR-training/354\n",
      "Directory Created: /Users/deontaepharr/Desktop/Projects/PIL_3dayLBCR-training/355\n",
      "Directory Created: /Users/deontaepharr/Desktop/Projects/PIL_3dayLBCR-training/356\n",
      "Directory Created: /Users/deontaepharr/Desktop/Projects/PIL_3dayLBCR-training/357\n",
      "Directory Created: /Users/deontaepharr/Desktop/Projects/PIL_3dayLBCR-training/358\n",
      "Directory Created: /Users/deontaepharr/Desktop/Projects/PIL_3dayLBCR-training/359\n",
      "Directory Created: /Users/deontaepharr/Desktop/Projects/PIL_3dayLBCR-training/360\n",
      "Directory Created: /Users/deontaepharr/Desktop/Projects/PIL_3dayLBCR-training/361\n",
      "Directory Created: /Users/deontaepharr/Desktop/Projects/PIL_3dayLBCR-training/362\n",
      "Directory Created: /Users/deontaepharr/Desktop/Projects/PIL_3dayLBCR-training/363\n",
      "Directory Created: /Users/deontaepharr/Desktop/Projects/PIL_3dayLBCR-training/364\n",
      "Directory Created: /Users/deontaepharr/Desktop/Projects/PIL_3dayLBCR-training/365\n",
      "Directory Created: /Users/deontaepharr/Desktop/Projects/PIL_3dayLBCR-training/366\n",
      "Directory Created: /Users/deontaepharr/Desktop/Projects/PIL_3dayLBCR-training/367\n",
      "Directory Created: /Users/deontaepharr/Desktop/Projects/PIL_3dayLBCR-training/368\n",
      "Directory Created: /Users/deontaepharr/Desktop/Projects/PIL_3dayLBCR-training/369\n",
      "Directory Created: /Users/deontaepharr/Desktop/Projects/PIL_3dayLBCR-training/370\n",
      "Directory Created: /Users/deontaepharr/Desktop/Projects/PIL_3dayLBCR-training/371\n",
      "Directory Created: /Users/deontaepharr/Desktop/Projects/PIL_3dayLBCR-training/372\n",
      "Directory Created: /Users/deontaepharr/Desktop/Projects/PIL_3dayLBCR-training/373\n",
      "Directory Created: /Users/deontaepharr/Desktop/Projects/PIL_3dayLBCR-training/374\n"
     ]
    }
   ],
   "source": [
    "organize_images(base_directory, total_data)"
   ]
  },
  {
   "cell_type": "code",
   "execution_count": 16,
   "metadata": {},
   "outputs": [],
   "source": [
    "strain_directories = get_strain_directories(base_directory=base_directory)\n",
    "gray_strain_directories = [join(s_dir,\"gray\") for s_dir in strain_directories]\n",
    "output_strain_directories = [join(s_dir, \"output\") for s_dir in gray_strain_directories]"
   ]
  },
  {
   "cell_type": "code",
   "execution_count": 17,
   "metadata": {},
   "outputs": [
    {
     "name": "stderr",
     "output_type": "stream",
     "text": [
      "100%|██████████| 67/67 [18:32<00:00, 16.61s/it]\n",
      "Executing Pipeline:   0%|          | 0/20 [00:00<?, ? Samples/s]"
     ]
    },
    {
     "name": "stdout",
     "output_type": "stream",
     "text": [
      "Initialised with 4 image(s) found.\n",
      "Output directory set to /Users/deontaepharr/Desktop/Projects/PIL_3dayLBCR-training/338/gray/output."
     ]
    },
    {
     "name": "stderr",
     "output_type": "stream",
     "text": [
      "Processing <PIL.Image.Image image mode=L size=28x28 at 0x10B4F16D8>: 100%|██████████| 20/20 [00:28<00:00,  1.45s/ Samples]\n",
      "Executing Pipeline:   0%|          | 0/20 [00:00<?, ? Samples/s]"
     ]
    },
    {
     "name": "stdout",
     "output_type": "stream",
     "text": [
      "Initialised with 3 image(s) found.\n",
      "Output directory set to /Users/deontaepharr/Desktop/Projects/PIL_3dayLBCR-training/132/gray/output."
     ]
    },
    {
     "name": "stderr",
     "output_type": "stream",
     "text": [
      "Processing <PIL.Image.Image image mode=L size=28x28 at 0x10B4F1AC8>: 100%|██████████| 20/20 [00:17<00:00,  1.11 Samples/s]\n",
      "Executing Pipeline:   0%|          | 0/20 [00:00<?, ? Samples/s]"
     ]
    },
    {
     "name": "stdout",
     "output_type": "stream",
     "text": [
      "Initialised with 4 image(s) found.\n",
      "Output directory set to /Users/deontaepharr/Desktop/Projects/PIL_3dayLBCR-training/331/gray/output."
     ]
    },
    {
     "name": "stderr",
     "output_type": "stream",
     "text": [
      "Processing <PIL.Image.Image image mode=L size=28x28 at 0x10B506CF8>: 100%|██████████| 20/20 [00:33<00:00,  1.66s/ Samples]\n",
      "Executing Pipeline:   0%|          | 0/20 [00:00<?, ? Samples/s]"
     ]
    },
    {
     "name": "stdout",
     "output_type": "stream",
     "text": [
      "Initialised with 4 image(s) found.\n",
      "Output directory set to /Users/deontaepharr/Desktop/Projects/PIL_3dayLBCR-training/159/gray/output."
     ]
    },
    {
     "name": "stderr",
     "output_type": "stream",
     "text": [
      "Processing <PIL.Image.Image image mode=L size=28x28 at 0x10B4E1F28>: 100%|██████████| 20/20 [00:17<00:00,  1.13 Samples/s]\n",
      "Executing Pipeline:   0%|          | 0/20 [00:00<?, ? Samples/s]"
     ]
    },
    {
     "name": "stdout",
     "output_type": "stream",
     "text": [
      "Initialised with 4 image(s) found.\n",
      "Output directory set to /Users/deontaepharr/Desktop/Projects/PIL_3dayLBCR-training/337/gray/output."
     ]
    },
    {
     "name": "stderr",
     "output_type": "stream",
     "text": [
      "Processing <PIL.Image.Image image mode=L size=28x28 at 0x10B506518>: 100%|██████████| 20/20 [00:26<00:00,  1.31s/ Samples]\n",
      "Executing Pipeline:   0%|          | 0/20 [00:00<?, ? Samples/s]"
     ]
    },
    {
     "name": "stdout",
     "output_type": "stream",
     "text": [
      "Initialised with 4 image(s) found.\n",
      "Output directory set to /Users/deontaepharr/Desktop/Projects/PIL_3dayLBCR-training/133/gray/output."
     ]
    },
    {
     "name": "stderr",
     "output_type": "stream",
     "text": [
      "Processing <PIL.Image.Image image mode=L size=28x28 at 0x10B4EDF98>: 100%|██████████| 20/20 [00:23<00:00,  1.18s/ Samples]\n",
      "Executing Pipeline:   0%|          | 0/20 [00:00<?, ? Samples/s]"
     ]
    },
    {
     "name": "stdout",
     "output_type": "stream",
     "text": [
      "Initialised with 4 image(s) found.\n",
      "Output directory set to /Users/deontaepharr/Desktop/Projects/PIL_3dayLBCR-training/134/gray/output."
     ]
    },
    {
     "name": "stderr",
     "output_type": "stream",
     "text": [
      "Processing <PIL.Image.Image image mode=L size=28x28 at 0x10B4EE390>: 100%|██████████| 20/20 [00:28<00:00,  1.44s/ Samples]\n",
      "Executing Pipeline:   0%|          | 0/20 [00:00<?, ? Samples/s]"
     ]
    },
    {
     "name": "stdout",
     "output_type": "stream",
     "text": [
      "Initialised with 4 image(s) found.\n",
      "Output directory set to /Users/deontaepharr/Desktop/Projects/PIL_3dayLBCR-training/158/gray/output."
     ]
    },
    {
     "name": "stderr",
     "output_type": "stream",
     "text": [
      "Processing <PIL.Image.Image image mode=L size=28x28 at 0x10B36AE80>: 100%|██████████| 20/20 [00:18<00:00,  1.06 Samples/s]\n",
      "Executing Pipeline:   0%|          | 0/20 [00:00<?, ? Samples/s]"
     ]
    },
    {
     "name": "stdout",
     "output_type": "stream",
     "text": [
      "Initialised with 4 image(s) found.\n",
      "Output directory set to /Users/deontaepharr/Desktop/Projects/PIL_3dayLBCR-training/169/gray/output."
     ]
    },
    {
     "name": "stderr",
     "output_type": "stream",
     "text": [
      "Processing <PIL.Image.Image image mode=L size=28x28 at 0x10B4ED908>: 100%|██████████| 20/20 [00:31<00:00,  1.55s/ Samples]\n",
      "Executing Pipeline:   0%|          | 0/20 [00:00<?, ? Samples/s]"
     ]
    },
    {
     "name": "stdout",
     "output_type": "stream",
     "text": [
      "Initialised with 4 image(s) found.\n",
      "Output directory set to /Users/deontaepharr/Desktop/Projects/PIL_3dayLBCR-training/023/gray/output."
     ]
    },
    {
     "name": "stderr",
     "output_type": "stream",
     "text": [
      "Processing <PIL.Image.Image image mode=L size=28x28 at 0x10B4FB908>: 100%|██████████| 20/20 [00:09<00:00,  2.00 Samples/s]\n",
      "Executing Pipeline:   0%|          | 0/20 [00:00<?, ? Samples/s]"
     ]
    },
    {
     "name": "stdout",
     "output_type": "stream",
     "text": [
      "Initialised with 4 image(s) found.\n",
      "Output directory set to /Users/deontaepharr/Desktop/Projects/PIL_3dayLBCR-training/015/gray/output."
     ]
    },
    {
     "name": "stderr",
     "output_type": "stream",
     "text": [
      "Processing <PIL.Image.Image image mode=L size=28x28 at 0x10B4E6BA8>: 100%|██████████| 20/20 [00:13<00:00,  1.46 Samples/s]\n",
      "Executing Pipeline:   0%|          | 0/20 [00:00<?, ? Samples/s]"
     ]
    },
    {
     "name": "stdout",
     "output_type": "stream",
     "text": [
      "Initialised with 4 image(s) found.\n",
      "Output directory set to /Users/deontaepharr/Desktop/Projects/PIL_3dayLBCR-training/041/gray/output."
     ]
    },
    {
     "name": "stderr",
     "output_type": "stream",
     "text": [
      "Processing <PIL.Image.Image image mode=L size=28x28 at 0x10B5044A8>: 100%|██████████| 20/20 [00:21<00:00,  1.08s/ Samples]\n",
      "Executing Pipeline:   0%|          | 0/20 [00:00<?, ? Samples/s]"
     ]
    },
    {
     "name": "stdout",
     "output_type": "stream",
     "text": [
      "Initialised with 4 image(s) found.\n",
      "Output directory set to /Users/deontaepharr/Desktop/Projects/PIL_3dayLBCR-training/084/gray/output."
     ]
    },
    {
     "name": "stderr",
     "output_type": "stream",
     "text": [
      "Processing <PIL.Image.Image image mode=L size=28x28 at 0x10B4F04E0>: 100%|██████████| 20/20 [00:15<00:00,  1.33 Samples/s]\n",
      "Executing Pipeline:   0%|          | 0/20 [00:00<?, ? Samples/s]"
     ]
    },
    {
     "name": "stdout",
     "output_type": "stream",
     "text": [
      "Initialised with 3 image(s) found.\n",
      "Output directory set to /Users/deontaepharr/Desktop/Projects/PIL_3dayLBCR-training/013/gray/output."
     ]
    },
    {
     "name": "stderr",
     "output_type": "stream",
     "text": [
      "Processing <PIL.Image.Image image mode=L size=28x28 at 0x10B5049B0>: 100%|██████████| 20/20 [01:01<00:00,  3.08s/ Samples]\n",
      "Executing Pipeline:   0%|          | 0/20 [00:00<?, ? Samples/s]"
     ]
    },
    {
     "name": "stdout",
     "output_type": "stream",
     "text": [
      "Initialised with 4 image(s) found.\n",
      "Output directory set to /Users/deontaepharr/Desktop/Projects/PIL_3dayLBCR-training/014/gray/output."
     ]
    },
    {
     "name": "stderr",
     "output_type": "stream",
     "text": [
      "Processing <PIL.Image.Image image mode=L size=28x28 at 0x10B4E4E80>: 100%|██████████| 20/20 [00:31<00:00,  1.60s/ Samples]\n",
      "Executing Pipeline:   0%|          | 0/20 [00:00<?, ? Samples/s]"
     ]
    },
    {
     "name": "stdout",
     "output_type": "stream",
     "text": [
      "Initialised with 4 image(s) found.\n",
      "Output directory set to /Users/deontaepharr/Desktop/Projects/PIL_3dayLBCR-training/226/gray/output."
     ]
    },
    {
     "name": "stderr",
     "output_type": "stream",
     "text": [
      "Processing <PIL.Image.Image image mode=L size=28x28 at 0x10B4EE7B8>: 100%|██████████| 20/20 [00:15<00:00,  1.28 Samples/s]\n",
      "Executing Pipeline:   0%|          | 0/20 [00:00<?, ? Samples/s]"
     ]
    },
    {
     "name": "stdout",
     "output_type": "stream",
     "text": [
      "Initialised with 3 image(s) found.\n",
      "Output directory set to /Users/deontaepharr/Desktop/Projects/PIL_3dayLBCR-training/210/gray/output."
     ]
    },
    {
     "name": "stderr",
     "output_type": "stream",
     "text": [
      "Processing <PIL.Image.Image image mode=L size=28x28 at 0x10B384860>: 100%|██████████| 20/20 [00:18<00:00,  1.08 Samples/s]\n",
      "Executing Pipeline:   0%|          | 0/20 [00:00<?, ? Samples/s]"
     ]
    },
    {
     "name": "stdout",
     "output_type": "stream",
     "text": [
      "Initialised with 3 image(s) found.\n",
      "Output directory set to /Users/deontaepharr/Desktop/Projects/PIL_3dayLBCR-training/078/gray/output."
     ]
    },
    {
     "name": "stderr",
     "output_type": "stream",
     "text": [
      "Processing <PIL.Image.Image image mode=L size=28x28 at 0x10B4E16D8>: 100%|██████████| 20/20 [00:18<00:00,  1.08 Samples/s]\n",
      "Executing Pipeline:   0%|          | 0/20 [00:00<?, ? Samples/s]"
     ]
    },
    {
     "name": "stdout",
     "output_type": "stream",
     "text": [
      "Initialised with 3 image(s) found.\n",
      "Output directory set to /Users/deontaepharr/Desktop/Projects/PIL_3dayLBCR-training/047/gray/output."
     ]
    },
    {
     "name": "stderr",
     "output_type": "stream",
     "text": [
      "Processing <PIL.Image.Image image mode=L size=28x28 at 0x10B4F1DD8>: 100%|██████████| 20/20 [00:19<00:00,  1.03 Samples/s]\n",
      "Executing Pipeline:   0%|          | 0/20 [00:00<?, ? Samples/s]"
     ]
    },
    {
     "name": "stdout",
     "output_type": "stream",
     "text": [
      "Initialised with 4 image(s) found.\n",
      "Output directory set to /Users/deontaepharr/Desktop/Projects/PIL_3dayLBCR-training/259/gray/output."
     ]
    },
    {
     "name": "stderr",
     "output_type": "stream",
     "text": [
      "Processing <PIL.Image.Image image mode=L size=28x28 at 0x10B4ED400>: 100%|██████████| 20/20 [00:08<00:00,  2.37 Samples/s]\n",
      "Executing Pipeline:   0%|          | 0/20 [00:00<?, ? Samples/s]"
     ]
    },
    {
     "name": "stdout",
     "output_type": "stream",
     "text": [
      "Initialised with 4 image(s) found.\n",
      "Output directory set to /Users/deontaepharr/Desktop/Projects/PIL_3dayLBCR-training/038/gray/output."
     ]
    },
    {
     "name": "stderr",
     "output_type": "stream",
     "text": [
      "Processing <PIL.Image.Image image mode=L size=28x28 at 0x10B384DA0>: 100%|██████████| 20/20 [00:25<00:00,  1.28s/ Samples]\n",
      "Executing Pipeline:   0%|          | 0/20 [00:00<?, ? Samples/s]"
     ]
    },
    {
     "name": "stdout",
     "output_type": "stream",
     "text": [
      "Initialised with 4 image(s) found.\n",
      "Output directory set to /Users/deontaepharr/Desktop/Projects/PIL_3dayLBCR-training/232/gray/output."
     ]
    },
    {
     "name": "stderr",
     "output_type": "stream",
     "text": [
      "Processing <PIL.Image.Image image mode=L size=28x28 at 0x10B4EB6A0>: 100%|██████████| 20/20 [00:27<00:00,  1.39s/ Samples]\n",
      "Executing Pipeline:   0%|          | 0/20 [00:00<?, ? Samples/s]"
     ]
    },
    {
     "name": "stdout",
     "output_type": "stream",
     "text": [
      "Initialised with 4 image(s) found.\n",
      "Output directory set to /Users/deontaepharr/Desktop/Projects/PIL_3dayLBCR-training/009/gray/output."
     ]
    },
    {
     "name": "stderr",
     "output_type": "stream",
     "text": [
      "Processing <PIL.Image.Image image mode=L size=28x28 at 0x10B4E1F98>: 100%|██████████| 20/20 [00:07<00:00,  2.61 Samples/s]\n",
      "Executing Pipeline:   0%|          | 0/20 [00:00<?, ? Samples/s]"
     ]
    },
    {
     "name": "stdout",
     "output_type": "stream",
     "text": [
      "Initialised with 4 image(s) found.\n",
      "Output directory set to /Users/deontaepharr/Desktop/Projects/PIL_3dayLBCR-training/052/gray/output."
     ]
    },
    {
     "name": "stderr",
     "output_type": "stream",
     "text": [
      "Processing <PIL.Image.Image image mode=L size=28x28 at 0x10B4ED080>: 100%|██████████| 20/20 [00:11<00:00,  1.75 Samples/s]\n",
      "Executing Pipeline:   0%|          | 0/20 [00:00<?, ? Samples/s]"
     ]
    },
    {
     "name": "stdout",
     "output_type": "stream",
     "text": [
      "Initialised with 4 image(s) found.\n",
      "Output directory set to /Users/deontaepharr/Desktop/Projects/PIL_3dayLBCR-training/293/gray/output."
     ]
    },
    {
     "name": "stderr",
     "output_type": "stream",
     "text": [
      "Processing <PIL.Image.Image image mode=L size=28x28 at 0x10B4F9978>: 100%|██████████| 20/20 [00:09<00:00,  2.20 Samples/s]\n",
      "Executing Pipeline:   0%|          | 0/20 [00:00<?, ? Samples/s]"
     ]
    },
    {
     "name": "stdout",
     "output_type": "stream",
     "text": [
      "Initialised with 4 image(s) found.\n",
      "Output directory set to /Users/deontaepharr/Desktop/Projects/PIL_3dayLBCR-training/090/gray/output."
     ]
    },
    {
     "name": "stderr",
     "output_type": "stream",
     "text": [
      "Processing <PIL.Image.Image image mode=L size=28x28 at 0x10B4EB080>: 100%|██████████| 20/20 [00:15<00:00,  1.26 Samples/s]\n",
      "Executing Pipeline:   0%|          | 0/20 [00:00<?, ? Samples/s]"
     ]
    },
    {
     "name": "stdout",
     "output_type": "stream",
     "text": [
      "Initialised with 4 image(s) found.\n",
      "Output directory set to /Users/deontaepharr/Desktop/Projects/PIL_3dayLBCR-training/001/gray/output."
     ]
    },
    {
     "name": "stderr",
     "output_type": "stream",
     "text": [
      "Processing <PIL.Image.Image image mode=L size=28x28 at 0x10B4E1EB8>: 100%|██████████| 20/20 [00:43<00:00,  2.19s/ Samples]\n",
      "Executing Pipeline:   0%|          | 0/20 [00:00<?, ? Samples/s]"
     ]
    },
    {
     "name": "stdout",
     "output_type": "stream",
     "text": [
      "Initialised with 4 image(s) found.\n",
      "Output directory set to /Users/deontaepharr/Desktop/Projects/PIL_3dayLBCR-training/174/gray/output."
     ]
    },
    {
     "name": "stderr",
     "output_type": "stream",
     "text": [
      "Processing <PIL.Image.Image image mode=L size=28x28 at 0x10B384710>: 100%|██████████| 20/20 [00:48<00:00,  2.40s/ Samples]\n",
      "Executing Pipeline:   0%|          | 0/20 [00:00<?, ? Samples/s]"
     ]
    },
    {
     "name": "stdout",
     "output_type": "stream",
     "text": [
      "Initialised with 4 image(s) found.\n",
      "Output directory set to /Users/deontaepharr/Desktop/Projects/PIL_3dayLBCR-training/129/gray/output."
     ]
    },
    {
     "name": "stderr",
     "output_type": "stream",
     "text": [
      "Processing <PIL.Image.Image image mode=L size=28x28 at 0x10B4EECC0>: 100%|██████████| 20/20 [00:37<00:00,  1.86s/ Samples]\n",
      "Executing Pipeline:   0%|          | 0/20 [00:00<?, ? Samples/s]"
     ]
    },
    {
     "name": "stdout",
     "output_type": "stream",
     "text": [
      "Initialised with 4 image(s) found.\n",
      "Output directory set to /Users/deontaepharr/Desktop/Projects/PIL_3dayLBCR-training/127/gray/output."
     ]
    },
    {
     "name": "stderr",
     "output_type": "stream",
     "text": [
      "Processing <PIL.Image.Image image mode=L size=28x28 at 0x10B506080>: 100%|██████████| 20/20 [00:16<00:00,  1.20 Samples/s]\n",
      "Executing Pipeline:   0%|          | 0/20 [00:00<?, ? Samples/s]"
     ]
    },
    {
     "name": "stdout",
     "output_type": "stream",
     "text": [
      "Initialised with 4 image(s) found.\n",
      "Output directory set to /Users/deontaepharr/Desktop/Projects/PIL_3dayLBCR-training/120/gray/output."
     ]
    },
    {
     "name": "stderr",
     "output_type": "stream",
     "text": [
      "Processing <PIL.Image.Image image mode=L size=28x28 at 0x10B4FBC18>: 100%|██████████| 20/20 [00:24<00:00,  1.22s/ Samples]\n",
      "Executing Pipeline:   0%|          | 0/20 [00:00<?, ? Samples/s]"
     ]
    },
    {
     "name": "stdout",
     "output_type": "stream",
     "text": [
      "Initialised with 4 image(s) found.\n",
      "Output directory set to /Users/deontaepharr/Desktop/Projects/PIL_3dayLBCR-training/340/gray/output."
     ]
    },
    {
     "name": "stderr",
     "output_type": "stream",
     "text": [
      "Processing <PIL.Image.Image image mode=L size=28x28 at 0x10B4F9DA0>: 100%|██████████| 20/20 [00:17<00:00,  1.14 Samples/s]\n",
      "Executing Pipeline:   0%|          | 0/20 [00:00<?, ? Samples/s]"
     ]
    },
    {
     "name": "stdout",
     "output_type": "stream",
     "text": [
      "Initialised with 4 image(s) found.\n",
      "Output directory set to /Users/deontaepharr/Desktop/Projects/PIL_3dayLBCR-training/175/gray/output."
     ]
    },
    {
     "name": "stderr",
     "output_type": "stream",
     "text": [
      "Processing <PIL.Image.Image image mode=L size=28x28 at 0x10B3847B8>: 100%|██████████| 20/20 [00:35<00:00,  1.77s/ Samples]\n",
      "Executing Pipeline:   0%|          | 0/20 [00:00<?, ? Samples/s]"
     ]
    },
    {
     "name": "stdout",
     "output_type": "stream",
     "text": [
      "Initialised with 4 image(s) found.\n",
      "Output directory set to /Users/deontaepharr/Desktop/Projects/PIL_3dayLBCR-training/313/gray/output."
     ]
    },
    {
     "name": "stderr",
     "output_type": "stream",
     "text": [
      "Processing <PIL.Image.Image image mode=L size=28x28 at 0x10B4F4390>: 100%|██████████| 20/20 [00:10<00:00,  1.85 Samples/s]\n",
      "Executing Pipeline:   0%|          | 0/20 [00:00<?, ? Samples/s]"
     ]
    },
    {
     "name": "stdout",
     "output_type": "stream",
     "text": [
      "Initialised with 4 image(s) found.\n",
      "Output directory set to /Users/deontaepharr/Desktop/Projects/PIL_3dayLBCR-training/126/gray/output."
     ]
    },
    {
     "name": "stderr",
     "output_type": "stream",
     "text": [
      "Processing <PIL.Image.Image image mode=L size=28x28 at 0x10B505470>: 100%|██████████| 20/20 [00:18<00:00,  1.09 Samples/s]\n",
      "Executing Pipeline:   0%|          | 0/20 [00:00<?, ? Samples/s]"
     ]
    },
    {
     "name": "stdout",
     "output_type": "stream",
     "text": [
      "Initialised with 4 image(s) found.\n",
      "Output directory set to /Users/deontaepharr/Desktop/Projects/PIL_3dayLBCR-training/128/gray/output."
     ]
    },
    {
     "name": "stderr",
     "output_type": "stream",
     "text": [
      "Processing <PIL.Image.Image image mode=L size=28x28 at 0x10B4E6940>: 100%|██████████| 20/20 [00:17<00:00,  1.12 Samples/s]\n",
      "Executing Pipeline:   0%|          | 0/20 [00:00<?, ? Samples/s]"
     ]
    },
    {
     "name": "stdout",
     "output_type": "stream",
     "text": [
      "Initialised with 4 image(s) found.\n",
      "Output directory set to /Users/deontaepharr/Desktop/Projects/PIL_3dayLBCR-training/304/gray/output."
     ]
    },
    {
     "name": "stderr",
     "output_type": "stream",
     "text": [
      "Processing <PIL.Image.Image image mode=L size=28x28 at 0x10B5061D0>: 100%|██████████| 20/20 [00:08<00:00,  2.27 Samples/s]\n",
      "Executing Pipeline:   0%|          | 0/20 [00:00<?, ? Samples/s]"
     ]
    },
    {
     "name": "stdout",
     "output_type": "stream",
     "text": [
      "Initialised with 4 image(s) found.\n",
      "Output directory set to /Users/deontaepharr/Desktop/Projects/PIL_3dayLBCR-training/109/gray/output."
     ]
    },
    {
     "name": "stderr",
     "output_type": "stream",
     "text": [
      "Processing <PIL.Image.Image image mode=L size=28x28 at 0x10B4E6518>: 100%|██████████| 20/20 [00:17<00:00,  1.12 Samples/s]\n",
      "Executing Pipeline:   0%|          | 0/20 [00:00<?, ? Samples/s]"
     ]
    },
    {
     "name": "stdout",
     "output_type": "stream",
     "text": [
      "Initialised with 4 image(s) found.\n",
      "Output directory set to /Users/deontaepharr/Desktop/Projects/PIL_3dayLBCR-training/334/gray/output."
     ]
    },
    {
     "name": "stderr",
     "output_type": "stream",
     "text": [
      "Processing <PIL.Image.Image image mode=L size=28x28 at 0x10B4EBFD0>: 100%|██████████| 20/20 [00:17<00:00,  1.18 Samples/s]\n",
      "Executing Pipeline:   0%|          | 0/20 [00:00<?, ? Samples/s]"
     ]
    },
    {
     "name": "stdout",
     "output_type": "stream",
     "text": [
      "Initialised with 4 image(s) found.\n",
      "Output directory set to /Users/deontaepharr/Desktop/Projects/PIL_3dayLBCR-training/333/gray/output."
     ]
    },
    {
     "name": "stderr",
     "output_type": "stream",
     "text": [
      "Processing <PIL.Image.Image image mode=L size=28x28 at 0x10B4E1D30>: 100%|██████████| 20/20 [00:24<00:00, 11.51s/ Samples]\n",
      "Executing Pipeline:   0%|          | 0/20 [00:00<?, ? Samples/s]"
     ]
    },
    {
     "name": "stdout",
     "output_type": "stream",
     "text": [
      "Initialised with 4 image(s) found.\n",
      "Output directory set to /Users/deontaepharr/Desktop/Projects/PIL_3dayLBCR-training/045/gray/output."
     ]
    },
    {
     "name": "stderr",
     "output_type": "stream",
     "text": [
      "Processing <PIL.Image.Image image mode=L size=28x28 at 0x10B5046D8>: 100%|██████████| 20/20 [00:08<00:00,  2.47 Samples/s]\n",
      "Executing Pipeline:   0%|          | 0/20 [00:00<?, ? Samples/s]"
     ]
    },
    {
     "name": "stdout",
     "output_type": "stream",
     "text": [
      "Initialised with 4 image(s) found.\n",
      "Output directory set to /Users/deontaepharr/Desktop/Projects/PIL_3dayLBCR-training/073/gray/output."
     ]
    },
    {
     "name": "stderr",
     "output_type": "stream",
     "text": [
      "Processing <PIL.Image.Image image mode=L size=28x28 at 0x10B506668>: 100%|██████████| 20/20 [00:13<00:00,  1.51 Samples/s]\n",
      "Executing Pipeline:   0%|          | 0/20 [00:00<?, ? Samples/s]"
     ]
    },
    {
     "name": "stdout",
     "output_type": "stream",
     "text": [
      "Initialised with 4 image(s) found.\n",
      "Output directory set to /Users/deontaepharr/Desktop/Projects/PIL_3dayLBCR-training/029/gray/output."
     ]
    },
    {
     "name": "stderr",
     "output_type": "stream",
     "text": [
      "Processing <PIL.Image.Image image mode=L size=28x28 at 0x10B4E3CF8>: 100%|██████████| 20/20 [00:11<00:00,  1.67 Samples/s]\n",
      "Executing Pipeline:   0%|          | 0/20 [00:00<?, ? Samples/s]"
     ]
    },
    {
     "name": "stdout",
     "output_type": "stream",
     "text": [
      "Initialised with 3 image(s) found.\n",
      "Output directory set to /Users/deontaepharr/Desktop/Projects/PIL_3dayLBCR-training/086/gray/output."
     ]
    },
    {
     "name": "stderr",
     "output_type": "stream",
     "text": [
      "Processing <PIL.Image.Image image mode=L size=28x28 at 0x10B506E48>: 100%|██████████| 20/20 [00:09<00:00,  2.08 Samples/s]\n",
      "Executing Pipeline:   0%|          | 0/20 [00:00<?, ? Samples/s]"
     ]
    },
    {
     "name": "stdout",
     "output_type": "stream",
     "text": [
      "Initialised with 4 image(s) found.\n",
      "Output directory set to /Users/deontaepharr/Desktop/Projects/PIL_3dayLBCR-training/276/gray/output."
     ]
    },
    {
     "name": "stderr",
     "output_type": "stream",
     "text": [
      "Processing <PIL.Image.Image image mode=L size=28x28 at 0x10B3DE518>: 100%|██████████| 20/20 [00:10<00:00,  1.87 Samples/s]\n",
      "Executing Pipeline:   0%|          | 0/20 [00:00<?, ? Samples/s]"
     ]
    },
    {
     "name": "stdout",
     "output_type": "stream",
     "text": [
      "Initialised with 4 image(s) found.\n",
      "Output directory set to /Users/deontaepharr/Desktop/Projects/PIL_3dayLBCR-training/026/gray/output."
     ]
    },
    {
     "name": "stderr",
     "output_type": "stream",
     "text": [
      "Processing <PIL.Image.Image image mode=L size=28x28 at 0x10B4E69B0>: 100%|██████████| 20/20 [00:14<00:00,  1.43 Samples/s]\n",
      "Executing Pipeline:   0%|          | 0/20 [00:00<?, ? Samples/s]"
     ]
    },
    {
     "name": "stdout",
     "output_type": "stream",
     "text": [
      "Initialised with 4 image(s) found.\n",
      "Output directory set to /Users/deontaepharr/Desktop/Projects/PIL_3dayLBCR-training/003/gray/output."
     ]
    },
    {
     "name": "stderr",
     "output_type": "stream",
     "text": [
      "Processing <PIL.Image.Image image mode=L size=28x28 at 0x10B4F1588>: 100%|██████████| 20/20 [00:17<00:00,  1.11 Samples/s]\n",
      "Executing Pipeline:   0%|          | 0/20 [00:00<?, ? Samples/s]"
     ]
    },
    {
     "name": "stdout",
     "output_type": "stream",
     "text": [
      "Initialised with 4 image(s) found.\n",
      "Output directory set to /Users/deontaepharr/Desktop/Projects/PIL_3dayLBCR-training/231/gray/output."
     ]
    },
    {
     "name": "stderr",
     "output_type": "stream",
     "text": [
      "Processing <PIL.Image.Image image mode=L size=28x28 at 0x10B4F7048>: 100%|██████████| 20/20 [00:18<00:00,  1.10 Samples/s]\n",
      "Executing Pipeline:   0%|          | 0/20 [00:00<?, ? Samples/s]"
     ]
    },
    {
     "name": "stdout",
     "output_type": "stream",
     "text": [
      "Initialised with 4 image(s) found.\n",
      "Output directory set to /Users/deontaepharr/Desktop/Projects/PIL_3dayLBCR-training/032/gray/output."
     ]
    },
    {
     "name": "stderr",
     "output_type": "stream",
     "text": [
      "Processing <PIL.Image.Image image mode=L size=28x28 at 0x10B4E1CF8>: 100%|██████████| 20/20 [00:57<00:00,  2.85s/ Samples]\n",
      "Executing Pipeline:   0%|          | 0/20 [00:00<?, ? Samples/s]"
     ]
    },
    {
     "name": "stdout",
     "output_type": "stream",
     "text": [
      "Initialised with 4 image(s) found.\n",
      "Output directory set to /Users/deontaepharr/Desktop/Projects/PIL_3dayLBCR-training/298/gray/output."
     ]
    },
    {
     "name": "stderr",
     "output_type": "stream",
     "text": [
      "Processing <PIL.Image.Image image mode=L size=28x28 at 0x10B4FEA90>: 100%|██████████| 20/20 [00:05<00:00,  3.43 Samples/s]\n",
      "Executing Pipeline:   0%|          | 0/20 [00:00<?, ? Samples/s]"
     ]
    },
    {
     "name": "stdout",
     "output_type": "stream",
     "text": [
      "Initialised with 4 image(s) found.\n",
      "Output directory set to /Users/deontaepharr/Desktop/Projects/PIL_3dayLBCR-training/050/gray/output."
     ]
    },
    {
     "name": "stderr",
     "output_type": "stream",
     "text": [
      "Processing <PIL.Image.Image image mode=L size=28x28 at 0x10B4EEBA8>: 100%|██████████| 20/20 [00:14<00:00,  1.38 Samples/s]\n",
      "Executing Pipeline:   0%|          | 0/20 [00:00<?, ? Samples/s]"
     ]
    },
    {
     "name": "stdout",
     "output_type": "stream",
     "text": [
      "Initialised with 4 image(s) found.\n",
      "Output directory set to /Users/deontaepharr/Desktop/Projects/PIL_3dayLBCR-training/033/gray/output."
     ]
    },
    {
     "name": "stderr",
     "output_type": "stream",
     "text": [
      "Processing <PIL.Image.Image image mode=L size=28x28 at 0x10B4EBE80>: 100%|██████████| 20/20 [00:14<00:00,  1.38 Samples/s]\n",
      "Executing Pipeline:   0%|          | 0/20 [00:00<?, ? Samples/s]"
     ]
    },
    {
     "name": "stdout",
     "output_type": "stream",
     "text": [
      "Initialised with 4 image(s) found.\n",
      "Output directory set to /Users/deontaepharr/Desktop/Projects/PIL_3dayLBCR-training/005/gray/output."
     ]
    },
    {
     "name": "stderr",
     "output_type": "stream",
     "text": [
      "Processing <PIL.Image.Image image mode=L size=28x28 at 0x10B4E9B00>: 100%|██████████| 20/20 [00:11<00:00,  1.68 Samples/s]\n",
      "Executing Pipeline:   0%|          | 0/20 [00:00<?, ? Samples/s]"
     ]
    },
    {
     "name": "stdout",
     "output_type": "stream",
     "text": [
      "Initialised with 4 image(s) found.\n",
      "Output directory set to /Users/deontaepharr/Desktop/Projects/PIL_3dayLBCR-training/237/gray/output."
     ]
    },
    {
     "name": "stderr",
     "output_type": "stream",
     "text": [
      "Processing <PIL.Image.Image image mode=L size=28x28 at 0x10B4E3BE0>: 100%|██████████| 20/20 [00:13<00:00,  1.54 Samples/s]\n",
      "Executing Pipeline:   0%|          | 0/20 [00:00<?, ? Samples/s]"
     ]
    },
    {
     "name": "stdout",
     "output_type": "stream",
     "text": [
      "Initialised with 4 image(s) found.\n",
      "Output directory set to /Users/deontaepharr/Desktop/Projects/PIL_3dayLBCR-training/230/gray/output."
     ]
    },
    {
     "name": "stderr",
     "output_type": "stream",
     "text": [
      "Processing <PIL.Image.Image image mode=L size=28x28 at 0x10B4E3CC0>: 100%|██████████| 20/20 [00:09<00:00,  2.17 Samples/s]\n",
      "Executing Pipeline:   0%|          | 0/20 [00:00<?, ? Samples/s]"
     ]
    },
    {
     "name": "stdout",
     "output_type": "stream",
     "text": [
      "Initialised with 4 image(s) found.\n",
      "Output directory set to /Users/deontaepharr/Desktop/Projects/PIL_3dayLBCR-training/002/gray/output."
     ]
    },
    {
     "name": "stderr",
     "output_type": "stream",
     "text": [
      "Processing <PIL.Image.Image image mode=L size=28x28 at 0x10B4F7B38>: 100%|██████████| 20/20 [00:19<00:00,  1.03 Samples/s]\n",
      "Executing Pipeline:   0%|          | 0/20 [00:00<?, ? Samples/s]"
     ]
    },
    {
     "name": "stdout",
     "output_type": "stream",
     "text": [
      "Initialised with 4 image(s) found.\n",
      "Output directory set to /Users/deontaepharr/Desktop/Projects/PIL_3dayLBCR-training/069/gray/output."
     ]
    },
    {
     "name": "stderr",
     "output_type": "stream",
     "text": [
      "Processing <PIL.Image.Image image mode=L size=28x28 at 0x10B4E8550>: 100%|██████████| 20/20 [00:17<00:00,  1.12 Samples/s]\n",
      "Executing Pipeline:   0%|          | 0/20 [00:00<?, ? Samples/s]"
     ]
    },
    {
     "name": "stdout",
     "output_type": "stream",
     "text": [
      "Initialised with 4 image(s) found.\n",
      "Output directory set to /Users/deontaepharr/Desktop/Projects/PIL_3dayLBCR-training/094/gray/output."
     ]
    },
    {
     "name": "stderr",
     "output_type": "stream",
     "text": [
      "Processing <PIL.Image.Image image mode=L size=28x28 at 0x10B4EB0B8>: 100%|██████████| 20/20 [00:19<00:00,  1.04 Samples/s]\n",
      "Executing Pipeline:   0%|          | 0/20 [00:00<?, ? Samples/s]"
     ]
    },
    {
     "name": "stdout",
     "output_type": "stream",
     "text": [
      "Initialised with 2 image(s) found.\n",
      "Output directory set to /Users/deontaepharr/Desktop/Projects/PIL_3dayLBCR-training/329/gray/output."
     ]
    },
    {
     "name": "stderr",
     "output_type": "stream",
     "text": [
      "Processing <PIL.Image.Image image mode=L size=28x28 at 0x10B4F4FD0>: 100%|██████████| 20/20 [00:05<00:00,  3.51 Samples/s]\n",
      "Executing Pipeline:   0%|          | 0/20 [00:00<?, ? Samples/s]"
     ]
    },
    {
     "name": "stdout",
     "output_type": "stream",
     "text": [
      "Initialised with 3 image(s) found.\n",
      "Output directory set to /Users/deontaepharr/Desktop/Projects/PIL_3dayLBCR-training/124/gray/output."
     ]
    },
    {
     "name": "stderr",
     "output_type": "stream",
     "text": [
      "Processing <PIL.Image.Image image mode=L size=28x28 at 0x10B4F7F60>: 100%|██████████| 20/20 [00:17<00:00,  1.13 Samples/s]\n",
      "Executing Pipeline:   0%|          | 0/20 [00:00<?, ? Samples/s]"
     ]
    },
    {
     "name": "stdout",
     "output_type": "stream",
     "text": [
      "Initialised with 4 image(s) found.\n",
      "Output directory set to /Users/deontaepharr/Desktop/Projects/PIL_3dayLBCR-training/148/gray/output."
     ]
    },
    {
     "name": "stderr",
     "output_type": "stream",
     "text": [
      "Processing <PIL.Image.Image image mode=L size=28x28 at 0x10B4F1CF8>: 100%|██████████| 20/20 [00:21<00:00,  1.07s/ Samples]\n",
      "Executing Pipeline:   0%|          | 0/20 [00:00<?, ? Samples/s]"
     ]
    },
    {
     "name": "stdout",
     "output_type": "stream",
     "text": [
      "Initialised with 4 image(s) found.\n",
      "Output directory set to /Users/deontaepharr/Desktop/Projects/PIL_3dayLBCR-training/317/gray/output."
     ]
    },
    {
     "name": "stderr",
     "output_type": "stream",
     "text": [
      "Processing <PIL.Image.Image image mode=L size=28x28 at 0x10B4E8EF0>: 100%|██████████| 20/20 [00:03<00:00,  5.15 Samples/s]\n",
      "Executing Pipeline:   0%|          | 0/20 [00:00<?, ? Samples/s]"
     ]
    },
    {
     "name": "stdout",
     "output_type": "stream",
     "text": [
      "Initialised with 4 image(s) found.\n",
      "Output directory set to /Users/deontaepharr/Desktop/Projects/PIL_3dayLBCR-training/125/gray/output."
     ]
    },
    {
     "name": "stderr",
     "output_type": "stream",
     "text": [
      "Processing <PIL.Image.Image image mode=L size=28x28 at 0x10B507898>: 100%|██████████| 20/20 [00:17<00:00,  1.12 Samples/s]\n",
      "Executing Pipeline:   0%|          | 0/20 [00:00<?, ? Samples/s]"
     ]
    },
    {
     "name": "stdout",
     "output_type": "stream",
     "text": [
      "Initialised with 3 image(s) found.\n",
      "Output directory set to /Users/deontaepharr/Desktop/Projects/PIL_3dayLBCR-training/122/gray/output."
     ]
    },
    {
     "name": "stderr",
     "output_type": "stream",
     "text": [
      "Processing <PIL.Image.Image image mode=L size=28x28 at 0x10B4E8828>: 100%|██████████| 20/20 [00:25<00:00,  1.28s/ Samples]\n",
      "Executing Pipeline:   0%|          | 0/20 [00:00<?, ? Samples/s]"
     ]
    },
    {
     "name": "stdout",
     "output_type": "stream",
     "text": [
      "Initialised with 4 image(s) found.\n",
      "Output directory set to /Users/deontaepharr/Desktop/Projects/PIL_3dayLBCR-training/113/gray/output."
     ]
    },
    {
     "name": "stderr",
     "output_type": "stream",
     "text": [
      "Processing <PIL.Image.Image image mode=L size=28x28 at 0x10B4F9FD0>: 100%|██████████| 20/20 [00:32<00:00,  1.61s/ Samples]\n",
      "Executing Pipeline:   0%|          | 0/20 [00:00<?, ? Samples/s]"
     ]
    },
    {
     "name": "stdout",
     "output_type": "stream",
     "text": [
      "Initialised with 4 image(s) found.\n",
      "Output directory set to /Users/deontaepharr/Desktop/Projects/PIL_3dayLBCR-training/344/gray/output."
     ]
    },
    {
     "name": "stderr",
     "output_type": "stream",
     "text": [
      "Processing <PIL.Image.Image image mode=L size=28x28 at 0x10B4FB978>: 100%|██████████| 20/20 [00:36<00:00,  1.81s/ Samples]\n",
      "Executing Pipeline:   0%|          | 0/20 [00:00<?, ? Samples/s]"
     ]
    },
    {
     "name": "stdout",
     "output_type": "stream",
     "text": [
      "Initialised with 4 image(s) found.\n",
      "Output directory set to /Users/deontaepharr/Desktop/Projects/PIL_3dayLBCR-training/149/gray/output."
     ]
    },
    {
     "name": "stderr",
     "output_type": "stream",
     "text": [
      "Processing <PIL.Image.Image image mode=L size=28x28 at 0x10B4FD588>: 100%|██████████| 20/20 [00:25<00:00,  1.28s/ Samples]\n",
      "100%|██████████| 67/67 [02:45<00:00,  2.47s/it]\n"
     ]
    }
   ],
   "source": [
    "process_images(strain_directories, gray_strain_directories, output_strain_directories)"
   ]
  },
  {
   "cell_type": "code",
   "execution_count": 18,
   "metadata": {},
   "outputs": [],
   "source": [
    "output_df = get_strain_images_as_df(output_strain_directories)"
   ]
  },
  {
   "cell_type": "code",
   "execution_count": 19,
   "metadata": {},
   "outputs": [],
   "source": [
    "save_to_excel(bacteria_workbook, 'Images', output_df)"
   ]
  },
  {
   "cell_type": "code",
   "execution_count": 20,
   "metadata": {},
   "outputs": [],
   "source": [
    "images_data = pd.read_excel(bacteria_workbook, dtype=object, sheet_name=\"Images\")"
   ]
  },
  {
   "cell_type": "code",
   "execution_count": 21,
   "metadata": {},
   "outputs": [],
   "source": [
    "total_data.set_index(\"strain\", inplace=True)"
   ]
  },
  {
   "cell_type": "code",
   "execution_count": 22,
   "metadata": {},
   "outputs": [],
   "source": [
    "images_data.set_index(\"strain\", inplace=True)"
   ]
  },
  {
   "cell_type": "code",
   "execution_count": 23,
   "metadata": {},
   "outputs": [],
   "source": [
    "cnn_dataset = merge_datasets(images_data, total_data)"
   ]
  },
  {
   "cell_type": "code",
   "execution_count": 24,
   "metadata": {},
   "outputs": [],
   "source": [
    "save_to_excel(bacteria_workbook, 'CNN Dataset', cnn_dataset)"
   ]
  }
 ],
 "metadata": {
  "kernelspec": {
   "display_name": "Python 3",
   "language": "python",
   "name": "python3"
  },
  "language_info": {
   "codemirror_mode": {
    "name": "ipython",
    "version": 3
   },
   "file_extension": ".py",
   "mimetype": "text/x-python",
   "name": "python",
   "nbconvert_exporter": "python",
   "pygments_lexer": "ipython3",
   "version": "3.7.0"
  }
 },
 "nbformat": 4,
 "nbformat_minor": 2
}
